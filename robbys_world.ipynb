{
 "cells": [
  {
   "cell_type": "markdown",
   "metadata": {},
   "source": [
    "## Robby's World\n",
    "#### From Melanie Mitchell's book *Compexity: A Guided Tour*"
   ]
  },
  {
   "cell_type": "markdown",
   "metadata": {},
   "source": [
    "10 x 10 matrix space  \n",
    "'cans' randomly distributed across space, no more than one can per square    \n",
    "Robby's job is to pick up as many cans as possible in 200 moves  \n",
    "rewarded 10 points for picking up a can  \n",
    "penalized 1 point for trying to pick up a can in an empty square and 5 points for crashing into a wall  "
   ]
  },
  {
   "cell_type": "code",
   "execution_count": 4,
   "metadata": {
    "collapsed": true
   },
   "outputs": [],
   "source": [
    "import pandas as pd"
   ]
  },
  {
   "cell_type": "code",
   "execution_count": 5,
   "metadata": {
    "collapsed": true
   },
   "outputs": [],
   "source": [
    "sites = ['North', 'South', 'East', 'West', 'Current']\n",
    "labels = ['empty', 'contains_can', 'wall']\n",
    "actions = ['MoveN', 'MoveS', 'MoveE', 'MoveW', 'MoveRandom', 'StayPut', 'PickUpCan']"
   ]
  },
  {
   "cell_type": "code",
   "execution_count": 8,
   "metadata": {
    "collapsed": false
   },
   "outputs": [],
   "source": [
    "x = []\n",
    "for site in sites:\n",
    "    for label in labels:\n",
    "        x.append('{} {}'.format(site, label))"
   ]
  },
  {
   "cell_type": "code",
   "execution_count": 10,
   "metadata": {
    "collapsed": false
   },
   "outputs": [],
   "source": [
    "y = ['{} {}'.format(site, label) for site in sites for label in labels]"
   ]
  },
  {
   "cell_type": "code",
   "execution_count": 11,
   "metadata": {
    "collapsed": false
   },
   "outputs": [
    {
     "data": {
      "text/plain": [
       "True"
      ]
     },
     "execution_count": 11,
     "metadata": {},
     "output_type": "execute_result"
    }
   ],
   "source": [
    "x == y"
   ]
  },
  {
   "cell_type": "code",
   "execution_count": 16,
   "metadata": {
    "collapsed": false
   },
   "outputs": [
    {
     "data": {
      "text/plain": [
       "['empty',\n",
       " 'empty',\n",
       " 'empty',\n",
       " 'empty',\n",
       " 'empty',\n",
       " 'contains_can',\n",
       " 'contains_can',\n",
       " 'contains_can',\n",
       " 'contains_can',\n",
       " 'contains_can',\n",
       " 'wall',\n",
       " 'wall',\n",
       " 'wall',\n",
       " 'wall',\n",
       " 'wall']"
      ]
     },
     "execution_count": 16,
     "metadata": {},
     "output_type": "execute_result"
    }
   ],
   "source": [
    "[label for label in labels for site in sites]"
   ]
  },
  {
   "cell_type": "code",
   "execution_count": null,
   "metadata": {
    "collapsed": true
   },
   "outputs": [],
   "source": []
  }
 ],
 "metadata": {
  "kernelspec": {
   "display_name": "Python [default]",
   "language": "python",
   "name": "python3"
  },
  "language_info": {
   "codemirror_mode": {
    "name": "ipython",
    "version": 3
   },
   "file_extension": ".py",
   "mimetype": "text/x-python",
   "name": "python",
   "nbconvert_exporter": "python",
   "pygments_lexer": "ipython3",
   "version": "3.5.2"
  }
 },
 "nbformat": 4,
 "nbformat_minor": 1
}
